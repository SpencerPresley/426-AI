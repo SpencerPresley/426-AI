{
 "cells": [
  {
   "cell_type": "code",
   "execution_count": 3,
   "metadata": {},
   "outputs": [],
   "source": [
    "from numpy import dot\n",
    "from numpy.linalg import norm\n",
    "from dotenv import load_dotenv\n",
    "import os\n",
    "from langchain_openai import OpenAIEmbeddings\n",
    "from langchain.evaluation import load_evaluator, EmbeddingDistance\n",
    "\n",
    "load_dotenv()\n",
    "\n",
    "openai_api_key = os.getenv(\"OPENAI_API_KEY\")\n",
    "\n",
    "openai_embeddings = OpenAIEmbeddings(\n",
    "    openai_api_key=openai_api_key,\n",
    "    model=\"text-embedding-3-large\",\n",
    ")"
   ]
  },
  {
   "cell_type": "code",
   "execution_count": 5,
   "metadata": {},
   "outputs": [],
   "source": [
    "# Evaluators\n",
    "consine_similarity_evaluator = load_evaluator(\n",
    "    \"embedding_distance\",\n",
    "    distance_metric=EmbeddingDistance.COSINE,\n",
    "    )\n",
    "\n",
    "euclidean_distance_evaluator = load_evaluator(\n",
    "    \"embedding_distance\",\n",
    "    distance_metric=EmbeddingDistance.EUCLIDEAN,\n",
    ")\n",
    "\n",
    "manhattan_distance_evaluator = load_evaluator(\n",
    "    \"embedding_distance\",\n",
    "    distance_metric=EmbeddingDistance.MANHATTAN,\n",
    ")\n",
    "\n",
    "chebyshev_distance_evaluator = load_evaluator(\n",
    "    \"embedding_distance\",\n",
    "    distance_metric=EmbeddingDistance.CHEBYSHEV,\n",
    ")\n",
    "\n",
    "hamming_distance_evaluator = load_evaluator(\n",
    "    \"embedding_distance\",\n",
    "    distance_metric=EmbeddingDistance.HAMMING,\n",
    ")"
   ]
  },
  {
   "cell_type": "code",
   "execution_count": null,
   "metadata": {},
   "outputs": [],
   "source": [
    "top_categories = [\n",
    "    \"Social and Information Sciences\", \n",
    "    \"Business and Management\"\n",
    "]\n",
    "\n",
    "mid_categories = [\n",
    "    \"Organizational Behavior\",\n",
    "    \"Human Resource Management\",\n",
    "]\n",
    "\n",
    "low_categories = [\n",
    "    \"Employee Engagement\", \n",
    "    \"Organizational Commitment\",\n",
    "    \"Career Development\", \n",
    "    \"Performance Evaluation\",\n",
    "]\n",
    "\n",
    "themes = [\n",
    "    \"Employee Engagement\",\n",
    "    \"Organizational Commitment\",\n",
    "    \"Career Development\",\n",
    "    \"Performance Evaluation\",\n",
    "]\n",
    "\n",
    "wos_categories = {\n",
    "    \"Psychology, Applied\": \"Applied psychology is the use of psychological methods and findings of scientific psychology to solve practical problems of human and animal behavior and experience. Some of the areas of applied psychology include clinical psychology, counseling psychology, industrial and organizational psychology, forensic psychology, and sports psychology.\"\n",
    "}\n",
    "\n",
    "title = \"Managers' Assessments of Employees' Organizational Career Growth Opportunities: The Role of Extra-Role Performance, Work Engagement, and Perceived Organizational Commitment\"\n",
    "\n",
    "abstract = \"This study examined the role of perceived organizational commitment on managers' assessments of employees' career growth opportunities. Based on a paired sample of 161 legal secretaries and their managers, results indicated that managers used the attitudes and behaviors displayed by employees (strong extra-role performance and enhanced work engagement) as cues from which to base their perceptions of employees' affective commitment to the organization. In turn, employees perceived as highly committed to the organization experienced enhanced content and structural career growth opportunities. Moreover, the relation between managers' perceptions of employees' organizational commitment and content career growth opportunities was stronger for employees perceived as also highly committed to their careers than for employees perceived as less committed to their careers.\""
   ]
  }
 ],
 "metadata": {
  "kernelspec": {
   "display_name": "cosc426",
   "language": "python",
   "name": "python3"
  },
  "language_info": {
   "codemirror_mode": {
    "name": "ipython",
    "version": 3
   },
   "file_extension": ".py",
   "mimetype": "text/x-python",
   "name": "python",
   "nbconvert_exporter": "python",
   "pygments_lexer": "ipython3",
   "version": "3.12.5"
  }
 },
 "nbformat": 4,
 "nbformat_minor": 2
}
